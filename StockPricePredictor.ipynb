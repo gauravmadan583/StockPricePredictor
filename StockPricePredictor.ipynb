{
  "nbformat": 4,
  "nbformat_minor": 0,
  "metadata": {
    "colab": {
      "name": "StockPricePredictor.ipynb",
      "provenance": []
    },
    "kernelspec": {
      "name": "python3",
      "display_name": "Python 3"
    },
    "accelerator": "GPU"
  },
  "cells": [
    {
      "cell_type": "code",
      "metadata": {
        "id": "MXJ1VEaXs1sz"
      },
      "source": [
        "import math\r\n",
        "import pandas_datareader as web\r\n",
        "import numpy as np\r\n",
        "import pandas as pd\r\n",
        "from sklearn.preprocessing import MinMaxScaler\r\n",
        "from tensorflow import keras\r\n",
        "from matplotlib import pyplot as plt"
      ],
      "execution_count": null,
      "outputs": []
    },
    {
      "cell_type": "code",
      "metadata": {
        "id": "B4XeUHFFtSpm"
      },
      "source": [
        "df = web.DataReader('TATAMOTORS.NS', data_source='yahoo', start='2012-01-01', end='2021-01-31')"
      ],
      "execution_count": null,
      "outputs": []
    },
    {
      "cell_type": "code",
      "metadata": {
        "colab": {
          "base_uri": "https://localhost:8080/",
          "height": 450
        },
        "id": "Olb4mFbkto2_",
        "outputId": "bae50fca-f799-44a7-9758-937dfd8f2abd"
      },
      "source": [
        "df"
      ],
      "execution_count": null,
      "outputs": [
        {
          "output_type": "execute_result",
          "data": {
            "text/html": [
              "<div>\n",
              "<style scoped>\n",
              "    .dataframe tbody tr th:only-of-type {\n",
              "        vertical-align: middle;\n",
              "    }\n",
              "\n",
              "    .dataframe tbody tr th {\n",
              "        vertical-align: top;\n",
              "    }\n",
              "\n",
              "    .dataframe thead th {\n",
              "        text-align: right;\n",
              "    }\n",
              "</style>\n",
              "<table border=\"1\" class=\"dataframe\">\n",
              "  <thead>\n",
              "    <tr style=\"text-align: right;\">\n",
              "      <th></th>\n",
              "      <th>High</th>\n",
              "      <th>Low</th>\n",
              "      <th>Open</th>\n",
              "      <th>Close</th>\n",
              "      <th>Volume</th>\n",
              "      <th>Adj Close</th>\n",
              "    </tr>\n",
              "    <tr>\n",
              "      <th>Date</th>\n",
              "      <th></th>\n",
              "      <th></th>\n",
              "      <th></th>\n",
              "      <th></th>\n",
              "      <th></th>\n",
              "      <th></th>\n",
              "    </tr>\n",
              "  </thead>\n",
              "  <tbody>\n",
              "    <tr>\n",
              "      <th>2012-01-02</th>\n",
              "      <td>183.086212</td>\n",
              "      <td>176.902542</td>\n",
              "      <td>179.029724</td>\n",
              "      <td>181.997894</td>\n",
              "      <td>10175802.0</td>\n",
              "      <td>176.739136</td>\n",
              "    </tr>\n",
              "    <tr>\n",
              "      <th>2012-01-03</th>\n",
              "      <td>192.732742</td>\n",
              "      <td>184.224014</td>\n",
              "      <td>184.273483</td>\n",
              "      <td>191.891769</td>\n",
              "      <td>15868503.0</td>\n",
              "      <td>186.347137</td>\n",
              "    </tr>\n",
              "    <tr>\n",
              "      <th>2012-01-04</th>\n",
              "      <td>200.351028</td>\n",
              "      <td>190.951843</td>\n",
              "      <td>191.792831</td>\n",
              "      <td>199.064835</td>\n",
              "      <td>22752471.0</td>\n",
              "      <td>193.312927</td>\n",
              "    </tr>\n",
              "    <tr>\n",
              "      <th>2012-01-05</th>\n",
              "      <td>203.566544</td>\n",
              "      <td>198.075439</td>\n",
              "      <td>198.817490</td>\n",
              "      <td>199.955276</td>\n",
              "      <td>21640778.0</td>\n",
              "      <td>194.177643</td>\n",
              "    </tr>\n",
              "    <tr>\n",
              "      <th>2012-01-06</th>\n",
              "      <td>202.824509</td>\n",
              "      <td>196.393478</td>\n",
              "      <td>197.877563</td>\n",
              "      <td>201.439362</td>\n",
              "      <td>13553191.0</td>\n",
              "      <td>195.618851</td>\n",
              "    </tr>\n",
              "    <tr>\n",
              "      <th>...</th>\n",
              "      <td>...</td>\n",
              "      <td>...</td>\n",
              "      <td>...</td>\n",
              "      <td>...</td>\n",
              "      <td>...</td>\n",
              "      <td>...</td>\n",
              "    </tr>\n",
              "    <tr>\n",
              "      <th>2021-01-25</th>\n",
              "      <td>299.500000</td>\n",
              "      <td>277.350006</td>\n",
              "      <td>296.899994</td>\n",
              "      <td>279.149994</td>\n",
              "      <td>164346913.0</td>\n",
              "      <td>279.149994</td>\n",
              "    </tr>\n",
              "    <tr>\n",
              "      <th>2021-01-27</th>\n",
              "      <td>275.000000</td>\n",
              "      <td>265.700012</td>\n",
              "      <td>274.899994</td>\n",
              "      <td>267.500000</td>\n",
              "      <td>126586833.0</td>\n",
              "      <td>267.500000</td>\n",
              "    </tr>\n",
              "    <tr>\n",
              "      <th>2021-01-28</th>\n",
              "      <td>273.399994</td>\n",
              "      <td>259.049988</td>\n",
              "      <td>260.049988</td>\n",
              "      <td>266.799988</td>\n",
              "      <td>129156876.0</td>\n",
              "      <td>266.799988</td>\n",
              "    </tr>\n",
              "    <tr>\n",
              "      <th>2021-01-29</th>\n",
              "      <td>278.799988</td>\n",
              "      <td>260.600006</td>\n",
              "      <td>273.000000</td>\n",
              "      <td>262.700012</td>\n",
              "      <td>138442348.0</td>\n",
              "      <td>262.700012</td>\n",
              "    </tr>\n",
              "    <tr>\n",
              "      <th>2021-02-01</th>\n",
              "      <td>282.000000</td>\n",
              "      <td>255.350006</td>\n",
              "      <td>269.750000</td>\n",
              "      <td>279.600006</td>\n",
              "      <td>165655500.0</td>\n",
              "      <td>279.600006</td>\n",
              "    </tr>\n",
              "  </tbody>\n",
              "</table>\n",
              "<p>2236 rows × 6 columns</p>\n",
              "</div>"
            ],
            "text/plain": [
              "                  High         Low  ...       Volume   Adj Close\n",
              "Date                                ...                         \n",
              "2012-01-02  183.086212  176.902542  ...   10175802.0  176.739136\n",
              "2012-01-03  192.732742  184.224014  ...   15868503.0  186.347137\n",
              "2012-01-04  200.351028  190.951843  ...   22752471.0  193.312927\n",
              "2012-01-05  203.566544  198.075439  ...   21640778.0  194.177643\n",
              "2012-01-06  202.824509  196.393478  ...   13553191.0  195.618851\n",
              "...                ...         ...  ...          ...         ...\n",
              "2021-01-25  299.500000  277.350006  ...  164346913.0  279.149994\n",
              "2021-01-27  275.000000  265.700012  ...  126586833.0  267.500000\n",
              "2021-01-28  273.399994  259.049988  ...  129156876.0  266.799988\n",
              "2021-01-29  278.799988  260.600006  ...  138442348.0  262.700012\n",
              "2021-02-01  282.000000  255.350006  ...  165655500.0  279.600006\n",
              "\n",
              "[2236 rows x 6 columns]"
            ]
          },
          "metadata": {
            "tags": []
          },
          "execution_count": 103
        }
      ]
    },
    {
      "cell_type": "code",
      "metadata": {
        "colab": {
          "base_uri": "https://localhost:8080/",
          "height": 513
        },
        "id": "mRh7OZEit4iE",
        "outputId": "5d50bd26-a8ac-4b18-c9a3-d8d5f7ea35c7"
      },
      "source": [
        "plt.figure(figsize=(16, 8))\r\n",
        "plt.title('Close Price History')\r\n",
        "plt.plot(df['Close'])\r\n",
        "plt.xlabel('Date')\r\n",
        "plt.ylabel('Close Price')\r\n",
        "plt.show()"
      ],
      "execution_count": null,
      "outputs": [
        {
          "output_type": "display_data",
          "data": {
            "image/png": "[encoded data removed]",
            "text/plain": [
              "<Figure size 1152x576 with 1 Axes>"
            ]
          },
          "metadata": {
            "tags": [],
            "needs_background": "light"
          }
        }
      ]
    },
    {
      "cell_type": "code",
      "metadata": {
        "id": "Fn1mJ0aauUc8"
      },
      "source": [
        "data = df.filter(['Close'])"
      ],
      "execution_count": null,
      "outputs": []
    },
    {
      "cell_type": "code",
      "metadata": {
        "id": "jojv4NPTu5mQ"
      },
      "source": [
        "dataset = data.values"
      ],
      "execution_count": null,
      "outputs": []
    },
    {
      "cell_type": "code",
      "metadata": {
        "id": "3B5ciIJEu9_x"
      },
      "source": [
        "training_data_len = math.ceil(len(dataset)* 0.8)"
      ],
      "execution_count": null,
      "outputs": []
    },
    {
      "cell_type": "code",
      "metadata": {
        "colab": {
          "base_uri": "https://localhost:8080/"
        },
        "id": "j66fHTQPvIXc",
        "outputId": "92896e2d-0a50-4988-cc6c-25f4c3c066eb"
      },
      "source": [
        "training_data_len"
      ],
      "execution_count": null,
      "outputs": [
        {
          "output_type": "execute_result",
          "data": {
            "text/plain": [
              "1789"
            ]
          },
          "metadata": {
            "tags": []
          },
          "execution_count": 108
        }
      ]
    },
    {
      "cell_type": "code",
      "metadata": {
        "id": "GoAJ0VqwvLIF"
      },
      "source": [
        "scaler = MinMaxScaler(feature_range=(0,1))\r\n",
        "scaled_data = scaler.fit_transform(dataset)"
      ],
      "execution_count": null,
      "outputs": []
    },
    {
      "cell_type": "code",
      "metadata": {
        "colab": {
          "base_uri": "https://localhost:8080/"
        },
        "id": "JGwuJ-cVvdFA",
        "outputId": "8a5a96d9-3f40-4d74-e31a-ad6816d13391"
      },
      "source": [
        "scaled_data"
      ],
      "execution_count": null,
      "outputs": [
        {
          "output_type": "execute_result",
          "data": {
            "text/plain": [
              "array([[0.21901343],\n",
              "       [0.23758182],\n",
              "       [0.25104391],\n",
              "       ...,\n",
              "       [0.37816625],\n",
              "       [0.3704716 ],\n",
              "       [0.40218876]])"
            ]
          },
          "metadata": {
            "tags": []
          },
          "execution_count": 110
        }
      ]
    },
    {
      "cell_type": "code",
      "metadata": {
        "colab": {
          "base_uri": "https://localhost:8080/"
        },
        "id": "d-EL03RQvm-Q",
        "outputId": "a285855e-c0f4-4734-d767-6415daa6b939"
      },
      "source": [
        "train_data = scaled_data[0:training_data_len, :]\r\n",
        "\r\n",
        "x_train = []\r\n",
        "y_train = []\r\n",
        "\r\n",
        "for i in range(60, len(train_data)):\r\n",
        "  x_train.append(train_data[i-60:i, 0])\r\n",
        "  y_train.append(train_data[i, 0])\r\n",
        "  if i <= 61:\r\n",
        "    print(x_train)\r\n",
        "    print(y_train)\r\n",
        "    print()"
      ],
      "execution_count": null,
      "outputs": [
        {
          "output_type": "stream",
          "text": [
            "[array([0.21901343, 0.23758182, 0.25104391, 0.25271505, 0.25550032,\n",
            "       0.24992979, 0.25828558, 0.25791422, 0.26032809, 0.26515589,\n",
            "       0.27434723, 0.2811247 , 0.27453291, 0.28307439, 0.28428133,\n",
            "       0.28428133, 0.28957333, 0.30628487, 0.32281075, 0.31176256,\n",
            "       0.33005242, 0.33868671, 0.33506587, 0.33729409, 0.34490713,\n",
            "       0.34230755, 0.34277175, 0.35521259, 0.35530543, 0.35706941,\n",
            "       0.37498794, 0.41193903, 0.38974981, 0.38612894, 0.38120836,\n",
            "       0.37591635, 0.37591635, 0.37034582, 0.36013323, 0.38501485,\n",
            "       0.38055847, 0.37359532, 0.37443089, 0.38650031, 0.3732239 ,\n",
            "       0.37498794, 0.39856978, 0.40516157, 0.40293338, 0.4159312 ,\n",
            "       0.41676683, 0.40980368, 0.40376895, 0.38139404, 0.39012117,\n",
            "       0.37898011, 0.38380791, 0.37582351, 0.3839936 , 0.38092984])]\n",
            "[0.3824152949176307]\n",
            "\n",
            "[array([0.21901343, 0.23758182, 0.25104391, 0.25271505, 0.25550032,\n",
            "       0.24992979, 0.25828558, 0.25791422, 0.26032809, 0.26515589,\n",
            "       0.27434723, 0.2811247 , 0.27453291, 0.28307439, 0.28428133,\n",
            "       0.28428133, 0.28957333, 0.30628487, 0.32281075, 0.31176256,\n",
            "       0.33005242, 0.33868671, 0.33506587, 0.33729409, 0.34490713,\n",
            "       0.34230755, 0.34277175, 0.35521259, 0.35530543, 0.35706941,\n",
            "       0.37498794, 0.41193903, 0.38974981, 0.38612894, 0.38120836,\n",
            "       0.37591635, 0.37591635, 0.37034582, 0.36013323, 0.38501485,\n",
            "       0.38055847, 0.37359532, 0.37443089, 0.38650031, 0.3732239 ,\n",
            "       0.37498794, 0.39856978, 0.40516157, 0.40293338, 0.4159312 ,\n",
            "       0.41676683, 0.40980368, 0.40376895, 0.38139404, 0.39012117,\n",
            "       0.37898011, 0.38380791, 0.37582351, 0.3839936 , 0.38092984]), array([0.23758182, 0.25104391, 0.25271505, 0.25550032, 0.24992979,\n",
            "       0.25828558, 0.25791422, 0.26032809, 0.26515589, 0.27434723,\n",
            "       0.2811247 , 0.27453291, 0.28307439, 0.28428133, 0.28428133,\n",
            "       0.28957333, 0.30628487, 0.32281075, 0.31176256, 0.33005242,\n",
            "       0.33868671, 0.33506587, 0.33729409, 0.34490713, 0.34230755,\n",
            "       0.34277175, 0.35521259, 0.35530543, 0.35706941, 0.37498794,\n",
            "       0.41193903, 0.38974981, 0.38612894, 0.38120836, 0.37591635,\n",
            "       0.37591635, 0.37034582, 0.36013323, 0.38501485, 0.38055847,\n",
            "       0.37359532, 0.37443089, 0.38650031, 0.3732239 , 0.37498794,\n",
            "       0.39856978, 0.40516157, 0.40293338, 0.4159312 , 0.41676683,\n",
            "       0.40980368, 0.40376895, 0.38139404, 0.39012117, 0.37898011,\n",
            "       0.38380791, 0.37582351, 0.3839936 , 0.38092984, 0.38241529])]\n",
            "[0.3824152949176307, 0.3885428725536647]\n",
            "\n"
          ],
          "name": "stdout"
        }
      ]
    },
    {
      "cell_type": "code",
      "metadata": {
        "id": "HC0AS84cwaLp"
      },
      "source": [
        "x_train, y_train = np.array(x_train), np.array(y_train)"
      ],
      "execution_count": null,
      "outputs": []
    },
    {
      "cell_type": "code",
      "metadata": {
        "id": "-_omD1p8XvHY"
      },
      "source": [
        "x_train = np.reshape(x_train, (x_train.shape[0], x_train.shape[1], 1))"
      ],
      "execution_count": null,
      "outputs": []
    },
    {
      "cell_type": "code",
      "metadata": {
        "colab": {
          "base_uri": "https://localhost:8080/"
        },
        "id": "3aKGgKHhXxBL",
        "outputId": "68885df4-0921-42aa-b94d-9c1f020a3f6f"
      },
      "source": [
        "x_train.shape"
      ],
      "execution_count": null,
      "outputs": [
        {
          "output_type": "execute_result",
          "data": {
            "text/plain": [
              "(1729, 60, 1)"
            ]
          },
          "metadata": {
            "tags": []
          },
          "execution_count": 114
        }
      ]
    },
    {
      "cell_type": "code",
      "metadata": {
        "id": "IeclirQWX8CI"
      },
      "source": [
        "model = keras.Sequential()\r\n",
        "model.add(keras.layers.LSTM(50, return_sequences=True, input_shape = (x_train.shape[1], 1)))\r\n",
        "model.add(keras.layers.LSTM(50, return_sequences=True))\r\n",
        "model.add(keras.layers.LSTM(50, return_sequences=False))\r\n",
        "model.add(keras.layers.Dense(25))\r\n",
        "model.add(keras.layers.Dense(1))"
      ],
      "execution_count": null,
      "outputs": []
    },
    {
      "cell_type": "code",
      "metadata": {
        "id": "o3IX_frgZCiF"
      },
      "source": [
        "model.compile(optimizer='adam', loss='mean_squared_error')"
      ],
      "execution_count": null,
      "outputs": []
    },
    {
      "cell_type": "code",
      "metadata": {
        "colab": {
          "base_uri": "https://localhost:8080/"
        },
        "id": "UzWn_U86dnY-",
        "outputId": "8fdc6305-72d3-40c7-f393-4bf69a3b6825"
      },
      "source": [
        "model.fit(x_train, y_train, batch_size=32, epochs=50, verbose=1)"
      ],
      "execution_count": null,
      "outputs": [
        {
          "output_type": "stream",
          "text": [
            "Epoch 1/50\n",
            "55/55 [==============================] - 7s 41ms/step - loss: 0.0650\n",
            "Epoch 2/50\n",
            "55/55 [==============================] - 2s 41ms/step - loss: 0.0021\n",
            "Epoch 3/50\n",
            "55/55 [==============================] - 2s 41ms/step - loss: 0.0019\n",
            "Epoch 4/50\n",
            "55/55 [==============================] - 2s 41ms/step - loss: 0.0022\n",
            "Epoch 5/50\n",
            "55/55 [==============================] - 2s 41ms/step - loss: 0.0017\n",
            "Epoch 6/50\n",
            "55/55 [==============================] - 2s 41ms/step - loss: 0.0017\n",
            "Epoch 7/50\n",
            "55/55 [==============================] - 2s 41ms/step - loss: 0.0021\n",
            "Epoch 8/50\n",
            "55/55 [==============================] - 2s 41ms/step - loss: 0.0014\n",
            "Epoch 9/50\n",
            "55/55 [==============================] - 2s 41ms/step - loss: 0.0014\n",
            "Epoch 10/50\n",
            "55/55 [==============================] - 2s 41ms/step - loss: 0.0012\n",
            "Epoch 11/50\n",
            "55/55 [==============================] - 2s 41ms/step - loss: 0.0018\n",
            "Epoch 12/50\n",
            "55/55 [==============================] - 2s 41ms/step - loss: 0.0011\n",
            "Epoch 13/50\n",
            "55/55 [==============================] - 2s 41ms/step - loss: 0.0012\n",
            "Epoch 14/50\n",
            "55/55 [==============================] - 2s 41ms/step - loss: 0.0010\n",
            "Epoch 15/50\n",
            "55/55 [==============================] - 2s 41ms/step - loss: 0.0010\n",
            "Epoch 16/50\n",
            "55/55 [==============================] - 2s 41ms/step - loss: 0.0010\n",
            "Epoch 17/50\n",
            "55/55 [==============================] - 2s 41ms/step - loss: 7.6866e-04\n",
            "Epoch 18/50\n",
            "55/55 [==============================] - 2s 41ms/step - loss: 0.0013\n",
            "Epoch 19/50\n",
            "55/55 [==============================] - 2s 41ms/step - loss: 8.3706e-04\n",
            "Epoch 20/50\n",
            "55/55 [==============================] - 2s 41ms/step - loss: 7.9196e-04\n",
            "Epoch 21/50\n",
            "55/55 [==============================] - 2s 41ms/step - loss: 7.3711e-04\n",
            "Epoch 22/50\n",
            "55/55 [==============================] - 2s 42ms/step - loss: 6.7208e-04\n",
            "Epoch 23/50\n",
            "55/55 [==============================] - 2s 41ms/step - loss: 7.9022e-04\n",
            "Epoch 24/50\n",
            "55/55 [==============================] - 2s 41ms/step - loss: 5.7845e-04\n",
            "Epoch 25/50\n",
            "55/55 [==============================] - 2s 41ms/step - loss: 6.7123e-04\n",
            "Epoch 26/50\n",
            "55/55 [==============================] - 2s 41ms/step - loss: 5.0189e-04\n",
            "Epoch 27/50\n",
            "55/55 [==============================] - 2s 41ms/step - loss: 4.6836e-04\n",
            "Epoch 28/50\n",
            "55/55 [==============================] - 2s 41ms/step - loss: 5.8833e-04\n",
            "Epoch 29/50\n",
            "55/55 [==============================] - 2s 41ms/step - loss: 5.7692e-04\n",
            "Epoch 30/50\n",
            "55/55 [==============================] - 2s 41ms/step - loss: 4.7143e-04\n",
            "Epoch 31/50\n",
            "55/55 [==============================] - 2s 41ms/step - loss: 4.2800e-04\n",
            "Epoch 32/50\n",
            "55/55 [==============================] - 2s 41ms/step - loss: 4.1499e-04\n",
            "Epoch 33/50\n",
            "55/55 [==============================] - 2s 41ms/step - loss: 4.9174e-04\n",
            "Epoch 34/50\n",
            "55/55 [==============================] - 2s 41ms/step - loss: 6.0055e-04\n",
            "Epoch 35/50\n",
            "55/55 [==============================] - 2s 41ms/step - loss: 4.1035e-04\n",
            "Epoch 36/50\n",
            "55/55 [==============================] - 2s 41ms/step - loss: 3.8925e-04\n",
            "Epoch 37/50\n",
            "55/55 [==============================] - 2s 41ms/step - loss: 0.0011\n",
            "Epoch 38/50\n",
            "55/55 [==============================] - 2s 41ms/step - loss: 4.5197e-04\n",
            "Epoch 39/50\n",
            "55/55 [==============================] - 2s 41ms/step - loss: 3.5645e-04\n",
            "Epoch 40/50\n",
            "55/55 [==============================] - 2s 41ms/step - loss: 3.2780e-04\n",
            "Epoch 41/50\n",
            "55/55 [==============================] - 2s 42ms/step - loss: 0.0012\n",
            "Epoch 42/50\n",
            "55/55 [==============================] - 2s 41ms/step - loss: 3.7007e-04\n",
            "Epoch 43/50\n",
            "55/55 [==============================] - 2s 41ms/step - loss: 3.4561e-04\n",
            "Epoch 44/50\n",
            "55/55 [==============================] - 2s 41ms/step - loss: 3.4011e-04\n",
            "Epoch 45/50\n",
            "55/55 [==============================] - 2s 41ms/step - loss: 4.0420e-04\n",
            "Epoch 46/50\n",
            "55/55 [==============================] - 2s 41ms/step - loss: 2.9848e-04\n",
            "Epoch 47/50\n",
            "55/55 [==============================] - 2s 41ms/step - loss: 3.3298e-04\n",
            "Epoch 48/50\n",
            "55/55 [==============================] - 2s 41ms/step - loss: 4.1002e-04\n",
            "Epoch 49/50\n",
            "55/55 [==============================] - 2s 41ms/step - loss: 0.0020\n",
            "Epoch 50/50\n",
            "55/55 [==============================] - 2s 41ms/step - loss: 3.1308e-04\n"
          ],
          "name": "stdout"
        },
        {
          "output_type": "execute_result",
          "data": {
            "text/plain": [
              "<tensorflow.python.keras.callbacks.History at 0x7fd07207d860>"
            ]
          },
          "metadata": {
            "tags": []
          },
          "execution_count": 117
        }
      ]
    },
    {
      "cell_type": "code",
      "metadata": {
        "id": "PpdAXjA1d0zv"
      },
      "source": [
        "test_data = scaled_data[training_data_len - 60: , :]\r\n",
        "\r\n",
        "x_test = []\r\n",
        "y_test = dataset[training_data_len:, :]\r\n",
        "\r\n",
        "for i in range(60, len(test_data)):\r\n",
        "  x_test.append(test_data[i-60:i, 0])\r\n",
        "\r\n"
      ],
      "execution_count": null,
      "outputs": []
    },
    {
      "cell_type": "code",
      "metadata": {
        "id": "1ac9Z4PsgLEc"
      },
      "source": [
        "x_test, y_test = np.array(x_test), np.array(y_test)"
      ],
      "execution_count": null,
      "outputs": []
    },
    {
      "cell_type": "code",
      "metadata": {
        "id": "UR_0U1hggZH7"
      },
      "source": [
        "x_test = np.reshape(x_test, (x_test.shape[0], x_test.shape[1], 1))"
      ],
      "execution_count": null,
      "outputs": []
    },
    {
      "cell_type": "code",
      "metadata": {
        "id": "GxET0qkdgezT"
      },
      "source": [
        "predictions  = model.predict(x_test)"
      ],
      "execution_count": null,
      "outputs": []
    },
    {
      "cell_type": "code",
      "metadata": {
        "id": "eJD-lnCTgpzV"
      },
      "source": [
        "predictions = scaler.inverse_transform(predictions)"
      ],
      "execution_count": null,
      "outputs": []
    },
    {
      "cell_type": "code",
      "metadata": {
        "id": "Kw9mvUZFgyh3"
      },
      "source": [
        "from sklearn.metrics import r2_score\r\n",
        "r2 = r2_score(predictions, y_test)"
      ],
      "execution_count": null,
      "outputs": []
    },
    {
      "cell_type": "code",
      "metadata": {
        "colab": {
          "base_uri": "https://localhost:8080/"
        },
        "id": "HwRe266-hEL0",
        "outputId": "447e5c60-7606-4d74-987d-cef80e10f91b"
      },
      "source": [
        "r2"
      ],
      "execution_count": null,
      "outputs": [
        {
          "output_type": "execute_result",
          "data": {
            "text/plain": [
              "0.9565330162039305"
            ]
          },
          "metadata": {
            "tags": []
          },
          "execution_count": 124
        }
      ]
    },
    {
      "cell_type": "code",
      "metadata": {
        "colab": {
          "base_uri": "https://localhost:8080/",
          "height": 632
        },
        "id": "5jAufziKhFDt",
        "outputId": "c4c5a7c2-fc3a-49a5-cb5c-d1f9e5bfd600"
      },
      "source": [
        "train = data[:training_data_len]\r\n",
        "valid = data[training_data_len:]\r\n",
        "valid['Predictions'] = predictions\r\n",
        "\r\n",
        "plt.figure(figsize=(16, 8))\r\n",
        "plt.title('Model')\r\n",
        "plt.xlabel('Date')\r\n",
        "plt.ylabel('Close Price')\r\n",
        "plt.plot(train['Close'])\r\n",
        "plt.plot(valid[['Close', 'Predictions']])\r\n",
        "plt.legend(['Train', 'Val', 'Predictions'], loc='lower right')"
      ],
      "execution_count": null,
      "outputs": [
        {
          "output_type": "stream",
          "text": [
            "/usr/local/lib/python3.6/dist-packages/ipykernel_launcher.py:3: SettingWithCopyWarning: \n",
            "A value is trying to be set on a copy of a slice from a DataFrame.\n",
            "Try using .loc[row_indexer,col_indexer] = value instead\n",
            "\n",
            "See the caveats in the documentation: https://pandas.pydata.org/pandas-docs/stable/user_guide/indexing.html#returning-a-view-versus-a-copy\n",
            "  This is separate from the ipykernel package so we can avoid doing imports until\n"
          ],
          "name": "stderr"
        },
        {
          "output_type": "execute_result",
          "data": {
            "text/plain": [
              "<matplotlib.legend.Legend at 0x7fd07042e898>"
            ]
          },
          "metadata": {
            "tags": []
          },
          "execution_count": 125
        },
        {
          "output_type": "display_data",
          "data": {
            "image/png": "[encoded data removed]",
            "text/plain": [
              "<Figure size 1152x576 with 1 Axes>"
            ]
          },
          "metadata": {
            "tags": [],
            "needs_background": "light"
          }
        }
      ]
    },
    {
      "cell_type": "code",
      "metadata": {
        "colab": {
          "base_uri": "https://localhost:8080/",
          "height": 450
        },
        "id": "kiU3zWmU6jrc",
        "outputId": "7e61df38-c144-405b-ea98-e7050fef7f33"
      },
      "source": [
        "valid"
      ],
      "execution_count": null,
      "outputs": [
        {
          "output_type": "execute_result",
          "data": {
            "text/html": [
              "<div>\n",
              "<style scoped>\n",
              "    .dataframe tbody tr th:only-of-type {\n",
              "        vertical-align: middle;\n",
              "    }\n",
              "\n",
              "    .dataframe tbody tr th {\n",
              "        vertical-align: top;\n",
              "    }\n",
              "\n",
              "    .dataframe thead th {\n",
              "        text-align: right;\n",
              "    }\n",
              "</style>\n",
              "<table border=\"1\" class=\"dataframe\">\n",
              "  <thead>\n",
              "    <tr style=\"text-align: right;\">\n",
              "      <th></th>\n",
              "      <th>Close</th>\n",
              "      <th>Predictions</th>\n",
              "    </tr>\n",
              "    <tr>\n",
              "      <th>Date</th>\n",
              "      <th></th>\n",
              "      <th></th>\n",
              "    </tr>\n",
              "  </thead>\n",
              "  <tbody>\n",
              "    <tr>\n",
              "      <th>2019-04-09</th>\n",
              "      <td>205.899994</td>\n",
              "      <td>202.639053</td>\n",
              "    </tr>\n",
              "    <tr>\n",
              "      <th>2019-04-10</th>\n",
              "      <td>216.050003</td>\n",
              "      <td>202.631119</td>\n",
              "    </tr>\n",
              "    <tr>\n",
              "      <th>2019-04-11</th>\n",
              "      <td>218.199997</td>\n",
              "      <td>206.989258</td>\n",
              "    </tr>\n",
              "    <tr>\n",
              "      <th>2019-04-12</th>\n",
              "      <td>215.949997</td>\n",
              "      <td>211.917999</td>\n",
              "    </tr>\n",
              "    <tr>\n",
              "      <th>2019-04-15</th>\n",
              "      <td>231.750000</td>\n",
              "      <td>214.054565</td>\n",
              "    </tr>\n",
              "    <tr>\n",
              "      <th>...</th>\n",
              "      <td>...</td>\n",
              "      <td>...</td>\n",
              "    </tr>\n",
              "    <tr>\n",
              "      <th>2021-01-25</th>\n",
              "      <td>279.149994</td>\n",
              "      <td>284.771515</td>\n",
              "    </tr>\n",
              "    <tr>\n",
              "      <th>2021-01-27</th>\n",
              "      <td>267.500000</td>\n",
              "      <td>280.611877</td>\n",
              "    </tr>\n",
              "    <tr>\n",
              "      <th>2021-01-28</th>\n",
              "      <td>266.799988</td>\n",
              "      <td>269.971680</td>\n",
              "    </tr>\n",
              "    <tr>\n",
              "      <th>2021-01-29</th>\n",
              "      <td>262.700012</td>\n",
              "      <td>263.976624</td>\n",
              "    </tr>\n",
              "    <tr>\n",
              "      <th>2021-02-01</th>\n",
              "      <td>279.600006</td>\n",
              "      <td>260.215057</td>\n",
              "    </tr>\n",
              "  </tbody>\n",
              "</table>\n",
              "<p>447 rows × 2 columns</p>\n",
              "</div>"
            ],
            "text/plain": [
              "                 Close  Predictions\n",
              "Date                               \n",
              "2019-04-09  205.899994   202.639053\n",
              "2019-04-10  216.050003   202.631119\n",
              "2019-04-11  218.199997   206.989258\n",
              "2019-04-12  215.949997   211.917999\n",
              "2019-04-15  231.750000   214.054565\n",
              "...                ...          ...\n",
              "2021-01-25  279.149994   284.771515\n",
              "2021-01-27  267.500000   280.611877\n",
              "2021-01-28  266.799988   269.971680\n",
              "2021-01-29  262.700012   263.976624\n",
              "2021-02-01  279.600006   260.215057\n",
              "\n",
              "[447 rows x 2 columns]"
            ]
          },
          "metadata": {
            "tags": []
          },
          "execution_count": 126
        }
      ]
    },
    {
      "cell_type": "code",
      "metadata": {
        "id": "CzH7_zAxiUOH"
      },
      "source": [
        "test = web.DataReader('TATAMOTORS.NS', data_source='yahoo', start='2020-11-01', end='2021-02-02')\r\n",
        "test_data = test.filter(['Close'])\r\n",
        "actual_price = test_data[-1:]\r\n",
        "test_data = test_data[-61:-1].values\r\n",
        "test_data = scaler.transform(test_data)"
      ],
      "execution_count": null,
      "outputs": []
    },
    {
      "cell_type": "code",
      "metadata": {
        "colab": {
          "base_uri": "https://localhost:8080/"
        },
        "id": "FtjBsh2z5cj2",
        "outputId": "51713c44-afaa-41f9-e996-d1d836ec9c46"
      },
      "source": [
        "X_test = []\r\n",
        "X_test.append(test_data)\r\n",
        "X_test = np.array(X_test)\r\n",
        "X_test = np.reshape(X_test, (X_test.shape[0], X_test.shape[1], 1))\r\n",
        "pred_price = model.predict(X_test)\r\n",
        "pred_price = scaler.inverse_transform(pred_price)\r\n",
        "pred_price"
      ],
      "execution_count": null,
      "outputs": [
        {
          "output_type": "execute_result",
          "data": {
            "text/plain": [
              "array([[267.98016]], dtype=float32)"
            ]
          },
          "metadata": {
            "tags": []
          },
          "execution_count": 128
        }
      ]
    },
    {
      "cell_type": "code",
      "metadata": {
        "colab": {
          "base_uri": "https://localhost:8080/",
          "height": 111
        },
        "id": "nNXzQ8GM59vD",
        "outputId": "35775f3b-28a2-446b-97f8-5fd15fcc8e87"
      },
      "source": [
        "actual_price"
      ],
      "execution_count": null,
      "outputs": [
        {
          "output_type": "execute_result",
          "data": {
            "text/html": [
              "<div>\n",
              "<style scoped>\n",
              "    .dataframe tbody tr th:only-of-type {\n",
              "        vertical-align: middle;\n",
              "    }\n",
              "\n",
              "    .dataframe tbody tr th {\n",
              "        vertical-align: top;\n",
              "    }\n",
              "\n",
              "    .dataframe thead th {\n",
              "        text-align: right;\n",
              "    }\n",
              "</style>\n",
              "<table border=\"1\" class=\"dataframe\">\n",
              "  <thead>\n",
              "    <tr style=\"text-align: right;\">\n",
              "      <th></th>\n",
              "      <th>Close</th>\n",
              "    </tr>\n",
              "    <tr>\n",
              "      <th>Date</th>\n",
              "      <th></th>\n",
              "    </tr>\n",
              "  </thead>\n",
              "  <tbody>\n",
              "    <tr>\n",
              "      <th>2021-02-02</th>\n",
              "      <td>313.850006</td>\n",
              "    </tr>\n",
              "  </tbody>\n",
              "</table>\n",
              "</div>"
            ],
            "text/plain": [
              "                 Close\n",
              "Date                  \n",
              "2021-02-02  313.850006"
            ]
          },
          "metadata": {
            "tags": []
          },
          "execution_count": 129
        }
      ]
    },
    {
      "cell_type": "code",
      "metadata": {
        "colab": {
          "base_uri": "https://localhost:8080/",
          "height": 450
        },
        "id": "ZCrnIC0I6GV3",
        "outputId": "ef30e92c-7a97-4a21-b8c2-c41ce17c7c67"
      },
      "source": [
        "test"
      ],
      "execution_count": null,
      "outputs": [
        {
          "output_type": "execute_result",
          "data": {
            "text/html": [
              "<div>\n",
              "<style scoped>\n",
              "    .dataframe tbody tr th:only-of-type {\n",
              "        vertical-align: middle;\n",
              "    }\n",
              "\n",
              "    .dataframe tbody tr th {\n",
              "        vertical-align: top;\n",
              "    }\n",
              "\n",
              "    .dataframe thead th {\n",
              "        text-align: right;\n",
              "    }\n",
              "</style>\n",
              "<table border=\"1\" class=\"dataframe\">\n",
              "  <thead>\n",
              "    <tr style=\"text-align: right;\">\n",
              "      <th></th>\n",
              "      <th>High</th>\n",
              "      <th>Low</th>\n",
              "      <th>Open</th>\n",
              "      <th>Close</th>\n",
              "      <th>Volume</th>\n",
              "      <th>Adj Close</th>\n",
              "    </tr>\n",
              "    <tr>\n",
              "      <th>Date</th>\n",
              "      <th></th>\n",
              "      <th></th>\n",
              "      <th></th>\n",
              "      <th></th>\n",
              "      <th></th>\n",
              "      <th></th>\n",
              "    </tr>\n",
              "  </thead>\n",
              "  <tbody>\n",
              "    <tr>\n",
              "      <th>2020-11-02</th>\n",
              "      <td>134.000000</td>\n",
              "      <td>131.100006</td>\n",
              "      <td>133.649994</td>\n",
              "      <td>132.850006</td>\n",
              "      <td>40388690.0</td>\n",
              "      <td>132.850006</td>\n",
              "    </tr>\n",
              "    <tr>\n",
              "      <th>2020-11-03</th>\n",
              "      <td>137.399994</td>\n",
              "      <td>133.550003</td>\n",
              "      <td>135.000000</td>\n",
              "      <td>134.100006</td>\n",
              "      <td>52071476.0</td>\n",
              "      <td>134.100006</td>\n",
              "    </tr>\n",
              "    <tr>\n",
              "      <th>2020-11-04</th>\n",
              "      <td>137.000000</td>\n",
              "      <td>134.000000</td>\n",
              "      <td>135.600006</td>\n",
              "      <td>135.899994</td>\n",
              "      <td>44675934.0</td>\n",
              "      <td>135.899994</td>\n",
              "    </tr>\n",
              "    <tr>\n",
              "      <th>2020-11-05</th>\n",
              "      <td>138.000000</td>\n",
              "      <td>136.000000</td>\n",
              "      <td>137.000000</td>\n",
              "      <td>137.649994</td>\n",
              "      <td>38928602.0</td>\n",
              "      <td>137.649994</td>\n",
              "    </tr>\n",
              "    <tr>\n",
              "      <th>2020-11-06</th>\n",
              "      <td>142.300003</td>\n",
              "      <td>137.649994</td>\n",
              "      <td>137.649994</td>\n",
              "      <td>139.000000</td>\n",
              "      <td>67966815.0</td>\n",
              "      <td>139.000000</td>\n",
              "    </tr>\n",
              "    <tr>\n",
              "      <th>...</th>\n",
              "      <td>...</td>\n",
              "      <td>...</td>\n",
              "      <td>...</td>\n",
              "      <td>...</td>\n",
              "      <td>...</td>\n",
              "      <td>...</td>\n",
              "    </tr>\n",
              "    <tr>\n",
              "      <th>2021-01-27</th>\n",
              "      <td>275.000000</td>\n",
              "      <td>265.700012</td>\n",
              "      <td>274.899994</td>\n",
              "      <td>267.500000</td>\n",
              "      <td>126586833.0</td>\n",
              "      <td>267.500000</td>\n",
              "    </tr>\n",
              "    <tr>\n",
              "      <th>2021-01-28</th>\n",
              "      <td>273.399994</td>\n",
              "      <td>259.049988</td>\n",
              "      <td>260.049988</td>\n",
              "      <td>266.799988</td>\n",
              "      <td>129156876.0</td>\n",
              "      <td>266.799988</td>\n",
              "    </tr>\n",
              "    <tr>\n",
              "      <th>2021-01-29</th>\n",
              "      <td>278.799988</td>\n",
              "      <td>260.600006</td>\n",
              "      <td>273.000000</td>\n",
              "      <td>262.700012</td>\n",
              "      <td>138442348.0</td>\n",
              "      <td>262.700012</td>\n",
              "    </tr>\n",
              "    <tr>\n",
              "      <th>2021-02-01</th>\n",
              "      <td>282.000000</td>\n",
              "      <td>255.350006</td>\n",
              "      <td>269.750000</td>\n",
              "      <td>279.600006</td>\n",
              "      <td>165655500.0</td>\n",
              "      <td>279.600006</td>\n",
              "    </tr>\n",
              "    <tr>\n",
              "      <th>2021-02-02</th>\n",
              "      <td>315.000000</td>\n",
              "      <td>290.399994</td>\n",
              "      <td>293.600006</td>\n",
              "      <td>314.299988</td>\n",
              "      <td>189350996.0</td>\n",
              "      <td>314.299988</td>\n",
              "    </tr>\n",
              "  </tbody>\n",
              "</table>\n",
              "<p>63 rows × 6 columns</p>\n",
              "</div>"
            ],
            "text/plain": [
              "                  High         Low  ...       Volume   Adj Close\n",
              "Date                                ...                         \n",
              "2020-11-02  134.000000  131.100006  ...   40388690.0  132.850006\n",
              "2020-11-03  137.399994  133.550003  ...   52071476.0  134.100006\n",
              "2020-11-04  137.000000  134.000000  ...   44675934.0  135.899994\n",
              "2020-11-05  138.000000  136.000000  ...   38928602.0  137.649994\n",
              "2020-11-06  142.300003  137.649994  ...   67966815.0  139.000000\n",
              "...                ...         ...  ...          ...         ...\n",
              "2021-01-27  275.000000  265.700012  ...  126586833.0  267.500000\n",
              "2021-01-28  273.399994  259.049988  ...  129156876.0  266.799988\n",
              "2021-01-29  278.799988  260.600006  ...  138442348.0  262.700012\n",
              "2021-02-01  282.000000  255.350006  ...  165655500.0  279.600006\n",
              "2021-02-02  315.000000  290.399994  ...  189350996.0  314.299988\n",
              "\n",
              "[63 rows x 6 columns]"
            ]
          },
          "metadata": {
            "tags": []
          },
          "execution_count": 71
        }
      ]
    },
    {
      "cell_type": "code",
      "metadata": {
        "id": "D8b3LnsN9Anx"
      },
      "source": [
        ""
      ],
      "execution_count": null,
      "outputs": []
    }
  ]
}